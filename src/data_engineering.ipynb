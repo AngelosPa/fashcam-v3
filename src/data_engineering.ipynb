{
    "cells": [
        {
            "cell_type": "code",
            "execution_count": 1,
            "metadata": {},
            "outputs": [],
            "source": [
                "import json\n",
                "with open('products.json') as f:\n",
                "    data1 = json.load(f)\n",
                "# with open('productshandm.json') as f:\n",
                "#     data2 = json.load(f)\n",
                "import matplotlib.pyplot as plt\n"
            ]
        },
        {
            "cell_type": "code",
            "execution_count": 2,
            "metadata": {},
            "outputs": [],
            "source": [
                "import requests\n",
                "import os\n",
                "data1[0]\n",
                "unique_types = [\n",
                "    folder for folder in os.listdir(r'C:\\Users\\mrpal\\OneDrive\\Desktop\\fashcam-v3\\finalDataset')]\n"
            ]
        },
        {
            "cell_type": "code",
            "execution_count": 3,
            "metadata": {},
            "outputs": [],
            "source": [
                "import requests\n",
                "import os\n",
                "# get image urls\n",
                "# from tensorflow.keras.utils import load_img, img_to_array\n",
                "# image_urls = []\n",
                "# for i in data1:\n",
                "#     for j in i['products']:\n",
                "\n",
                "#         image_urls.append(j['imageUrl'])\n",
                "\n",
                "\n",
                "# #add an  http: // to the beginning of each url\n",
                "# image_urls = [r'http://' + i for i in image_urls]\n",
                "# # Make a directory to store the images\n",
                "# os.makedirs(\"images\", exist_ok=True)\n",
                "\n",
                "# # Define a list of image URLs\n",
                "\n",
                "\n",
                "# # Loop through the list of URLs and download each image\n",
                "# for i, url in enumerate(image_urls):\n",
                "#     response = requests.get(url)\n",
                "#     open(f\"images/image{i}.jpg\", \"wb\").write(response.content)\n"
            ]
        },
        {
            "cell_type": "code",
            "execution_count": null,
            "metadata": {},
            "outputs": [],
            "source": [
                "# import requests\n",
                "# import os\n",
                "# from PIL import Image\n",
                "# # import io\n",
                "# import io\n",
                "\n",
                "\n",
                "# # Directory to save the images\n",
                "# save_dir = \"imagesFromAsos\"\n",
                "\n",
                "# if not os.path.exists(save_dir):\n",
                "#     os.makedirs(save_dir)\n",
                "\n",
                "# # Loop over the image URLs\n",
                "# for url in image_urls:\n",
                "#     response = requests.get(url)\n",
                "#     binary_image = response.content\n",
                "\n",
                "#     # Convert binary image data to a PIL Image object\n",
                "#     image = Image.open(io.BytesIO(binary_image))\n",
                "\n",
                "    \n"
            ]
        },
        {
            "cell_type": "code",
            "execution_count": 5,
            "metadata": {},
            "outputs": [],
            "source": [
                "# classify the images and save the label and the image name in a dataframe\n",
                "import pandas as pd\n",
                "import numpy as np\n",
                "import os\n",
                "# get the image names\n",
                "image_names = os.listdir(r'C:\\Users\\mrpal\\OneDrive\\Desktop\\fashcam-v3\\asos\\unlabeled')\n"
            ]
        },
        {
            "cell_type": "code",
            "execution_count": 13,
            "metadata": {},
            "outputs": [],
            "source": [
                "from PIL import Image\n",
                "\n",
                "\n",
                "def image_editor(img_path):\n",
                "    # Open the image\n",
                "    img = Image.open(img_path)\n",
                "    # Get the size of the image\n",
                "    width, height = img.size\n",
                "    # Calculate the aspect ratio of the image\n",
                "    aspect_ratio = height / width\n",
                "    # Add a frame to the image\n",
                "    # Create a new image with a frame\n",
                "    frame_size = int(min(width, height) / 6)\n",
                "    new_width = width + 2 * frame_size\n",
                "    new_height = int(new_width * aspect_ratio) + 2 * frame_size\n",
                "    new_img = Image.new(\"RGB\", (new_width, new_height), \"black\")\n",
                "    new_img.paste(img, (frame_size, frame_size))\n",
                "\n",
                "    # Crop the image to a rectangular shape\n",
                "    left = frame_size\n",
                "    upper = frame_size\n",
                "    right = left + width\n",
                "    lower = upper + height\n",
                "    cropped_img = new_img.crop((left, upper, right, lower))\n",
                "\n",
                "    # Save the new image\n",
                "    cropped_img.save(\"output.jpg\")\n",
                "    return cropped_img\n"
            ]
        },
        {
            "cell_type": "code",
            "execution_count": 6,
            "metadata": {},
            "outputs": [],
            "source": [
                "#InceptionResNetV2\n",
                "from tensorflow.keras.applications.inception_resnet_v2 import InceptionResNetV2\n",
                "from tensorflow.keras.preprocessing import image\n",
                "from tensorflow.keras.applications.inception_resnet_v2 import preprocess_input, decode_predictions\n",
                "# import load img\n",
                "from tensorflow.keras.preprocessing.image import load_img, img_to_array\n",
                "\n",
                "\n",
                "def get_prediction_InceptionResNetV2(img_path):\n",
                "\n",
                "    # load\n",
                "    model = InceptionResNetV2(weights='imagenet', include_top=True)\n",
                "    img = load_img(img_path, target_size=(299, 299))\n",
                "    x = img_to_array(img)\n",
                "    x = np.expand_dims(x, axis=0)\n",
                "    x = preprocess_input(x)\n",
                "    # get prediction\n",
                "    features = model.predict(x)\n",
                "    predictions = decode_predictions(features, top=2)\n",
                "    propability = predictions[0][0][2]    \n",
                "    \n",
                "    return predictions[0][0] if propability > 0.5 else (0,f'{propability} too low')\n"
            ]
        },
        {
            "cell_type": "code",
            "execution_count": null,
            "metadata": {},
            "outputs": [],
            "source": [
                "asos_df = pd.DataFrame(columns=['image_name', 'prediction'])\n",
                "for i in range(0, 50):\n",
                "    get_prediction_InceptionResNetV2(\n",
                "        f'C:/Users/mrpal/OneDrive/Desktop/fashcam-v3/asos/unlabeled/image{i}.jpg')\n",
                "    asos_df = asos_df.append({'image_name': f'image{i}.jpg',\n",
                "                              'prediction': get_prediction_InceptionResNetV2(\n",
                "                                    f'C:/Users/mrpal/OneDrive/Desktop/fashcam-v3/asos/unlabeled/image{i}.jpg')[1]},\n",
                "                                \n",
                "                                ignore_index=True)\n",
                "\n",
                "asos_df\n"
            ]
        },
        {
            "cell_type": "code",
            "execution_count": 61,
            "metadata": {},
            "outputs": [
                {
                    "data": {
                        "text/plain": [
                            "['image46.jpg', 'image47.jpg']"
                        ]
                    },
                    "execution_count": 61,
                    "metadata": {},
                    "output_type": "execute_result"
                }
            ],
            "source": [
                "# check which includes nubmers\n",
                "asos_df[asos_df['prediction'].str.contains(r'\\d')]['image_name'].tolist()"
            ]
        },
        {
            "cell_type": "code",
            "execution_count": 59,
            "metadata": {},
            "outputs": [],
            "source": [
                "# save to csv\n",
                "asos_df.to_csv('asos_df_only50.csv', index=False)"
            ]
        },
        {
            "cell_type": "code",
            "execution_count": null,
            "metadata": {},
            "outputs": [],
            "source": [
                "# plot them \n",
                "import seaborn as sns\n",
                "import matplotlib.pyplot as plt\n",
                "import matplotlib.image as mpimg\n",
                "plt.figure(figsize=(20, 20))\n",
                "for i in range(49):\n",
                "    plt.subplot(9, 5, i+1)\n",
                "    img = mpimg.imread(r'C:\\Users\\mrpal\\OneDrive\\Desktop\\fashcam-v3\\asos\\only' + '\\\\'+ asos_df['image_name'][i])\n",
                "    plt.title(asos_df['prediction'][i])\n",
                "    plt.imshow(img)\n",
                "    \n",
                "    plt.axis('off')\n",
                "plt.show()\n"
            ]
        },
        {
            "cell_type": "code",
            "execution_count": 97,
            "metadata": {},
            "outputs": [],
            "source": [
                "# create folders out of the classes\n",
                "import os  \n",
                "import shutil\n",
                "asos_df_clean = asos_df[asos_df['prediction'].str.contains(r'\\d') == False]\n",
                "folder_names = asos_df_clean['prediction'].unique().tolist()\n",
                "\n"
            ]
        },
        {
            "cell_type": "code",
            "execution_count": 103,
            "metadata": {},
            "outputs": [
                {
                    "data": {
                        "text/plain": [
                            "['sunglass',\n",
                            " 'jersey',\n",
                            " 'velvet',\n",
                            " 'cardigan',\n",
                            " 'sweatshirt',\n",
                            " 'swimming_trunks',\n",
                            " 'trench_coat',\n",
                            " 'bulletproof_vest']"
                        ]
                    },
                    "execution_count": 103,
                    "metadata": {},
                    "output_type": "execute_result"
                }
            ],
            "source": [
                "folder_names\n"
            ]
        },
        {
            "cell_type": "code",
            "execution_count": 102,
            "metadata": {},
            "outputs": [],
            "source": [
                "folder_names\n",
                "# create folders for each label in asos\n",
                "for i in folder_names:\n",
                "    os.makedirs(\n",
                "        r\"C:\\Users\\mrpal\\OneDrive\\Desktop\\fashcam-v3\\asos\" + '\\\\' + i, exist_ok=True)\n",
                "        "
            ]
        },
        {
            "cell_type": "code",
            "execution_count": null,
            "metadata": {},
            "outputs": [],
            "source": [
                "#import shutil\n",
                "#folderpath= r'C:\\Users\\mrpal\\OneDrive\\Desktop\\WBS\\machineLearning\\supervised\\deeplearning\\Imagesfromfashiondataset\\only'\n",
                "# # for each row in the dataframe\n",
                "# for index, row in selected_styles.iterrows():\n",
                "#     # get the image name\n",
                "#     image_name = row['image_name']\n",
                "#     # get the type of clothing\n",
                "#     type = row['articleType']\n",
                "#     # get the source path to the image\n",
                "#     src = os.path.join(r\"folderpath\", image_name).replace(\"\\\\\", \"/\")\n",
                "\n",
                "#     # get the destination path to the image\n",
                "#     dst = r'Imagesfromfashiondataset/'+os.path.join(type, image_name).replace(\"\\\\\", \"/\")\n",
                "#     # move the image from the source to the destination\n",
                "#     # print(src, dst)\n",
                "#     shutil.move(src, dst)\n"
            ]
        }
    ],
    "metadata": {
        "kernelspec": {
            "display_name": "Python 3",
            "language": "python",
            "name": "python3"
        },
        "language_info": {
            "codemirror_mode": {
                "name": "ipython",
                "version": 3
            },
            "file_extension": ".py",
            "mimetype": "text/x-python",
            "name": "python",
            "nbconvert_exporter": "python",
            "pygments_lexer": "ipython3",
            "version": "3.10.4"
        },
        "orig_nbformat": 4,
        "vscode": {
            "interpreter": {
                "hash": "e5d44d20471fed6b31c84e96a507e39677b7979bf00486c2e6552218c91082f0"
            }
        }
    },
    "nbformat": 4,
    "nbformat_minor": 2
}
